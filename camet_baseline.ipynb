{
 "cells": [
  {
   "cell_type": "markdown",
   "metadata": {},
   "source": [
    "# Cellular Automaton Metastasis"
   ]
  },
  {
   "cell_type": "code",
   "execution_count": 56,
   "metadata": {},
   "outputs": [],
   "source": [
    "from camet import Camet\n",
    "import numpy as np\n",
    "import matplotlib.pyplot as plt\n",
    "from itertools import count"
   ]
  },
  {
   "cell_type": "code",
   "execution_count": 66,
   "metadata": {},
   "outputs": [],
   "source": [
    "NUMBER_TRIALS = 5000\n",
    "c = Camet(4,4)"
   ]
  },
  {
   "cell_type": "code",
   "execution_count": 58,
   "metadata": {},
   "outputs": [],
   "source": [
    "def establish_baseline(action=False):\n",
    "\n",
    "    output = []\n",
    "\n",
    "    for i in range(NUMBER_TRIALS):\n",
    "\n",
    "        c.reset()\n",
    "        generations_survived = 0\n",
    "\n",
    "        for generation in count():\n",
    "\n",
    "            generations_survived += 1\n",
    "\n",
    "            if c.check_game_over():\n",
    "                output.append(generations_survived)\n",
    "                break\n",
    "\n",
    "            c.history.append(c.state)\n",
    "            if action:\n",
    "                c.make_random_move()\n",
    "            c.state = c.get_next_generation(c.state)\n",
    "    \n",
    "    return output"
   ]
  },
  {
   "cell_type": "markdown",
   "metadata": {},
   "source": [
    "## Baseline: No Random Action"
   ]
  },
  {
   "cell_type": "code",
   "execution_count": 59,
   "metadata": {},
   "outputs": [],
   "source": [
    "no_rand_action_output = establish_baseline()"
   ]
  },
  {
   "cell_type": "code",
   "execution_count": 60,
   "metadata": {},
   "outputs": [
    {
     "data": {
      "image/png": "[encoded data removed]",
      "text/plain": [
       "<Figure size 432x288 with 1 Axes>"
      ]
     },
     "metadata": {
      "needs_background": "light"
     },
     "output_type": "display_data"
    },
    {
     "name": "stdout",
     "output_type": "stream",
     "text": [
      "Average Number of Generations: \t 4.3195\n"
     ]
    }
   ],
   "source": [
    "plt.hist(output, bins=range(min(no_rand_action_output), max(no_rand_action_output) + 1, 1), align='left', rwidth=0.6)\n",
    "plt.axvline(x=np.mean(no_rand_action_output), color='red', label='test')\n",
    "plt.show()\n",
    "print(\"Average Number of Generations:\", \"\\t\", np.mean(no_rand_action_output))"
   ]
  },
  {
   "cell_type": "markdown",
   "metadata": {},
   "source": [
    "# Baseline: Random Action"
   ]
  },
  {
   "cell_type": "code",
   "execution_count": 69,
   "metadata": {},
   "outputs": [],
   "source": [
    "rand_action_output = establish_baseline(action=True)"
   ]
  },
  {
   "cell_type": "code",
   "execution_count": 70,
   "metadata": {},
   "outputs": [
    {
     "data": {
      "image/png": "[encoded data removed]",
      "text/plain": [
       "<Figure size 432x288 with 1 Axes>"
      ]
     },
     "metadata": {
      "needs_background": "light"
     },
     "output_type": "display_data"
    },
    {
     "name": "stdout",
     "output_type": "stream",
     "text": [
      "Average Number of Generations: \t 6.4778\n"
     ]
    }
   ],
   "source": [
    "plt.hist(output, bins=range(min(rand_action_output), max(rand_action_output) + 1, 1), align='left', rwidth=0.6)\n",
    "plt.axvline(x=np.mean(rand_action_output), color='red', label='test')\n",
    "plt.show()\n",
    "print(\"Average Number of Generations:\", \"\\t\", np.mean(rand_action_output))"
   ]
  },
  {
   "cell_type": "markdown",
   "metadata": {},
   "source": [
    "# Baseline: 50:50 No to Random Action"
   ]
  },
  {
   "cell_type": "code",
   "execution_count": 63,
   "metadata": {},
   "outputs": [],
   "source": [
    "def establish_5050_baseline(action=True):\n",
    "\n",
    "    output = []\n",
    "\n",
    "    for i in range(NUMBER_TRIALS):\n",
    "\n",
    "        c.reset()\n",
    "        generations_survived = 0\n",
    "\n",
    "        for generation in count():\n",
    "\n",
    "            generations_survived += 1\n",
    "\n",
    "            if c.check_game_over():\n",
    "                output.append(generations_survived)\n",
    "                break\n",
    "\n",
    "            c.history.append(c.state)\n",
    "            if action:\n",
    "                if np.random.randint(2) == 1:\n",
    "                    c.make_random_move()\n",
    "            c.state = c.get_next_generation(c.state)\n",
    "    \n",
    "    return output"
   ]
  },
  {
   "cell_type": "code",
   "execution_count": 67,
   "metadata": {},
   "outputs": [],
   "source": [
    "fiftyfifty_action_output = establish_5050_baseline(action=True)"
   ]
  },
  {
   "cell_type": "code",
   "execution_count": 68,
   "metadata": {},
   "outputs": [
    {
     "data": {
      "image/png": "[encoded data removed]",
      "text/plain": [
       "<Figure size 432x288 with 1 Axes>"
      ]
     },
     "metadata": {
      "needs_background": "light"
     },
     "output_type": "display_data"
    },
    {
     "name": "stdout",
     "output_type": "stream",
     "text": [
      "Average Number of Generations: \t 4.873\n"
     ]
    }
   ],
   "source": [
    "plt.hist(output, bins=range(min(fiftyfifty_action_output), max(fiftyfifty_action_output) + 1, 1), align='left', rwidth=0.6)\n",
    "plt.axvline(x=np.mean(fiftyfifty_action_output), color='red', label='test')\n",
    "plt.show()\n",
    "print(\"Average Number of Generations:\", \"\\t\", np.mean(fiftyfifty_action_output))"
   ]
  }
 ],
 "metadata": {
  "kernelspec": {
   "display_name": "Python 3",
   "language": "python",
   "name": "python3"
  },
  "language_info": {
   "codemirror_mode": {
    "name": "ipython",
    "version": 3
   },
   "file_extension": ".py",
   "mimetype": "text/x-python",
   "name": "python",
   "nbconvert_exporter": "python",
   "pygments_lexer": "ipython3",
   "version": "3.7.1"
  }
 },
 "nbformat": 4,
 "nbformat_minor": 2
}
