{
 "cells": [
  {
   "cell_type": "markdown",
   "metadata": {},
   "source": [
    "# Cellular Automaton Metastasis"
   ]
  },
  {
   "cell_type": "code",
   "execution_count": 19,
   "metadata": {},
   "outputs": [],
   "source": [
    "from camet import Camet\n",
    "import numpy as np\n",
    "import matplotlib.pyplot as plt\n",
    "from itertools import count"
   ]
  },
  {
   "cell_type": "code",
   "execution_count": 20,
   "metadata": {},
   "outputs": [],
   "source": [
    "NUMBER_TRIALS = 5000\n",
    "c = Camet(5,5)"
   ]
  },
  {
   "cell_type": "code",
   "execution_count": 33,
   "metadata": {},
   "outputs": [],
   "source": [
    "def establish_baseline(action):\n",
    "\n",
    "    output = []\n",
    "\n",
    "    for i in range(NUMBER_TRIALS):\n",
    "\n",
    "        c.reset([11,13])\n",
    "        generations_survived = 0\n",
    "\n",
    "        for generation in count():\n",
    "\n",
    "            generations_survived += 1\n",
    "\n",
    "            c.history.append(c.state)\n",
    "            c.make_move(action)\n",
    "            c.state = c.get_next_generation(c.state)\n",
    "            \n",
    "            \n",
    "            if c.check_game_over():\n",
    "                output.append(generations_survived + 1)\n",
    "                break\n",
    "    \n",
    "    return output"
   ]
  },
  {
   "cell_type": "markdown",
   "metadata": {},
   "source": [
    "## Baseline: No Action and Random Action"
   ]
  },
  {
   "cell_type": "code",
   "execution_count": 13,
   "metadata": {},
   "outputs": [],
   "source": [
    "no_rand_action = establish_baseline('none')"
   ]
  },
  {
   "cell_type": "code",
   "execution_count": 34,
   "metadata": {},
   "outputs": [],
   "source": [
    "rand_action = establish_baseline('random')"
   ]
  },
  {
   "cell_type": "code",
   "execution_count": 36,
   "metadata": {},
   "outputs": [
    {
     "data": {
      "image/png": "[encoded data removed]",
      "text/plain": [
       "<Figure size 720x576 with 2 Axes>"
      ]
     },
     "metadata": {
      "needs_background": "light"
     },
     "output_type": "display_data"
    }
   ],
   "source": [
    "plt.figure(figsize =(10,8))\n",
    "\n",
    "plt.subplot(121)\n",
    "plt.hist(no_rand_action)\n",
    "plt.hist(no_rand_action, bins=range(min(no_rand_action), max(no_rand_action) + 1, 1), align='left', rwidth=0.6)\n",
    "mean_duration = np.mean(no_rand_action)\n",
    "plt.axvline(x=mean_duration, color='red', label='test')\n",
    "plt.ylabel('Frequency')\n",
    "plt.xlabel('Number of Generations')\n",
    "plt.title('Mean Duration: ' + str(mean_duration))\n",
    "\n",
    "plt.subplot(122)\n",
    "plt.hist(rand_action)\n",
    "plt.hist(rand_action, bins=range(min(rand_action), max(rand_action) + 1, 1), align='left', rwidth=0.6)\n",
    "mean_duration = np.mean(rand_action)\n",
    "plt.axvline(x=mean_duration, color='red', label='test')\n",
    "plt.ylabel('Frequency')\n",
    "plt.xlabel('Number of Generations')\n",
    "plt.title('Mean Duration: ' + str(mean_duration))\n",
    "\n",
    "plt.suptitle('Baseline: No Action and Random Action')\n",
    "plt.show()\n"
   ]
  },
  {
   "cell_type": "code",
   "execution_count": null,
   "metadata": {},
   "outputs": [],
   "source": []
  }
 ],
 "metadata": {
  "kernelspec": {
   "display_name": "Python 3",
   "language": "python",
   "name": "python3"
  },
  "language_info": {
   "codemirror_mode": {
    "name": "ipython",
    "version": 3
   },
   "file_extension": ".py",
   "mimetype": "text/x-python",
   "name": "python",
   "nbconvert_exporter": "python",
   "pygments_lexer": "ipython3",
   "version": "3.7.1"
  }
 },
 "nbformat": 4,
 "nbformat_minor": 2
}
